{
 "cells": [
  {
   "cell_type": "code",
   "execution_count": 369,
   "id": "8c6f8a49",
   "metadata": {},
   "outputs": [],
   "source": [
    "import numpy as np\n",
    "import os\n",
    "from scipy.linalg import sqrtm"
   ]
  },
  {
   "cell_type": "code",
   "execution_count": 370,
   "id": "52051b11",
   "metadata": {},
   "outputs": [],
   "source": [
    "def getCB(B):\n",
    "    \"\"\"\n",
    "    Compute the CB matrix from the B matrix.\n",
    "    (1 + i B)(1 - iB)^{-1}\n",
    "    \"\"\"\n",
    "    I = np.eye(B.shape[0], dtype=complex)\n",
    "    return (I + 1j * B) @ np.linalg.inv(I - 1j * B)\n",
    "\n",
    "def getStilde(Ktilde):\n",
    "    \"\"\"\n",
    "    Compute the Stilde matrix from the Ktilde matrix.\n",
    "    (1 + i Ktilde)(1 - i Ktilde)^{-1}\n",
    "    \"\"\"\n",
    "    I = np.eye(Ktilde.shape[0], dtype=complex)\n",
    "    return  (I + 1j * Ktilde) @ np.linalg.inv(I - 1j * Ktilde)\n",
    "\n",
    "def getStildeFromInv(Ktilde_inv):\n",
    "    \"\"\"\n",
    "    Compute the Stilde_inv matrix from the Ktilde_inv matrix.\n",
    "    -(1 - i Ktilde_inv)(1 + i Ktilde_inv)^{-1}\n",
    "    \"\"\"\n",
    "    I = np.eye(Ktilde_inv.shape[0], dtype=complex)\n",
    "    return  (-I + 1j * Ktilde_inv) @ np.linalg.inv(I + 1j * Ktilde_inv)\n",
    "\n",
    "def getOmega(mu, A):\n",
    "    \"\"\"\n",
    "    Compute Omega(mu, A) = det(A)/(det(mu^2 + A A^dagger)^{1/2})\n",
    "    \"\"\"\n",
    "    A_dagger = np.conjugate(A.T)\n",
    "    det_A = np.linalg.det(A)\n",
    "    det_term = np.linalg.det(sqrtm(mu**2 * np.eye(A.shape[0], dtype=complex) + A @ A_dagger))\n",
    "    return det_A / det_term\n",
    "\n",
    "def getQuantConds(Ktilde, B, Ktilde_inv, B_from_inv):\n",
    "    \"\"\"\n",
    "    Compute the quantization conditions for the given Ktilde, B, and Ktilde_inv matrices.\n",
    "    \"\"\"\n",
    "    Stilde = getStilde(Ktilde)\n",
    "    StildeFromInv = getStildeFromInv(Ktilde_inv)\n",
    "    CB = getCB(B)\n",
    "    CBfromInv = getCB(B_from_inv)\n",
    "    mu = 5.0\n",
    "\n",
    "    qc_mats = [np.eye(Stilde.shape[0], dtype=complex) + Stilde@CB,\n",
    "               np.eye(Stilde.shape[0], dtype=complex) - Ktilde@B]\n",
    "    qc_mats_inv = [np.conj(StildeFromInv).T + CBfromInv,\n",
    "                   Ktilde_inv - B_from_inv]\n",
    "\n",
    "    qc_evs = [sorted(list(np.linalg.eigvals(mat)), key=lambda x: np.real(x)) for mat in qc_mats]\n",
    "    qc_evs_inv = [sorted(list(np.linalg.eigvals(mat)), key=lambda x: np.real(x)) for mat in qc_mats_inv]\n",
    "    qc_omegas = [getOmega(mu, mat) for mat in [qc_mats[0], qc_mats_inv[0], qc_mats[1], qc_mats_inv[1]]]\n",
    "    return qc_evs, qc_evs_inv, qc_omegas"
   ]
  },
  {
   "cell_type": "code",
   "execution_count": 371,
   "id": "03e9f1dd",
   "metadata": {},
   "outputs": [],
   "source": [
    "# set pwd to the directory of this script\n",
    "script_dir = \"/home/john/Documents/LatticeQCD/KBfit/source_testing/test_quant_conds\"\n",
    "os.chdir(script_dir)\n",
    "# load in the arrays\n",
    "B = np.load('B.npy')\n",
    "B_from_inv = np.load('B_from_inv.npy')\n",
    "Ktilde = np.load('Ktilde.npy')\n",
    "Ktilde_inv = np.load('Ktilde_inv.npy')\n",
    "np.set_printoptions(precision=8)\n",
    "\n",
    "# get their Cayley transforms\n",
    "CB = getCB(B)\n",
    "Stilde = getStilde(Ktilde)\n",
    "Stilde_inv = getStildeFromInv(Ktilde_inv)"
   ]
  },
  {
   "cell_type": "code",
   "execution_count": 372,
   "id": "fb6abab4",
   "metadata": {},
   "outputs": [],
   "source": [
    "qc_evs, qc_evs_inv, qc_omegas = getQuantConds(Ktilde, B, Ktilde_inv, B_from_inv)\n",
    "qc_omegas\n",
    "qc_evs = [sorted(list(evs), key=lambda x: np.real(x)) for evs in qc_evs]\n",
    "qc_evs = np.array(qc_evs)\n"
   ]
  },
  {
   "cell_type": "code",
   "execution_count": 373,
   "id": "6caff733",
   "metadata": {},
   "outputs": [
    {
     "data": {
      "text/plain": [
       "[(9.213918378212943e-06+5.060875269296043e-05j),\n",
       " (-1.2969097546671993e-13-2.4267873840457708e-14j),\n",
       " (0.3785676343281114+0j),\n",
       " (-0.702487142542966+0j)]"
      ]
     },
     "execution_count": 373,
     "metadata": {},
     "output_type": "execute_result"
    }
   ],
   "source": [
    "qc_omegas"
   ]
  },
  {
   "cell_type": "code",
   "execution_count": 374,
   "id": "bf8299f4",
   "metadata": {},
   "outputs": [
    {
     "data": {
      "text/plain": [
       "[[(-0.02908045373321034-0.23880415280408485j),\n",
       "  (-0.028987718711938452-0.24123010858559443j),\n",
       "  (-6.190354360842534e-05-0.006570393748999051j),\n",
       "  (5.4914108473932524e-05-0.03000343115832579j),\n",
       "  (0.0016467782750596207-0.10262300562148081j),\n",
       "  (0.0018249887716535076-0.08320584122896078j),\n",
       "  (0.44678284078014713+0.8232558448867525j),\n",
       "  (1.4517907820473988-0.8921674115958211j),\n",
       "  (1.8780384875785594-0.24012680294340139j)],\n",
       " [(-2569.5875115982617+0j),\n",
       "  (-164.55817249160165+0j),\n",
       "  (-6.330419492752181+0j),\n",
       "  (10.245422230323312+0j),\n",
       "  (70.25228033214157+0j),\n",
       "  (130.09075202106646+0j),\n",
       "  (276.64839615410176+0j),\n",
       "  (763.0583104719979+0j),\n",
       "  (2320.7634184721096+0j)]]"
      ]
     },
     "execution_count": 374,
     "metadata": {},
     "output_type": "execute_result"
    }
   ],
   "source": [
    "qc_evs_inv"
   ]
  },
  {
   "cell_type": "code",
   "execution_count": 375,
   "id": "544a6e97",
   "metadata": {},
   "outputs": [
    {
     "data": {
      "text/plain": [
       "(8, 8)"
      ]
     },
     "execution_count": 375,
     "metadata": {},
     "output_type": "execute_result"
    }
   ],
   "source": [
    "B.shape"
   ]
  },
  {
   "cell_type": "code",
   "execution_count": null,
   "id": "d40ab5a7",
   "metadata": {},
   "outputs": [],
   "source": []
  }
 ],
 "metadata": {
  "kernelspec": {
   "display_name": "Python 3",
   "language": "python",
   "name": "python3"
  },
  "language_info": {
   "codemirror_mode": {
    "name": "ipython",
    "version": 3
   },
   "file_extension": ".py",
   "mimetype": "text/x-python",
   "name": "python",
   "nbconvert_exporter": "python",
   "pygments_lexer": "ipython3",
   "version": "3.10.12"
  }
 },
 "nbformat": 4,
 "nbformat_minor": 5
}
